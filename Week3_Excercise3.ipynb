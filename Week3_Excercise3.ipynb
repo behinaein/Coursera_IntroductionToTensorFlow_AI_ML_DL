{
  "nbformat": 4,
  "nbformat_minor": 0,
  "metadata": {
    "colab": {
      "name": "Week3-Excercise3.ipynb",
      "version": "0.3.2",
      "provenance": [],
      "collapsed_sections": []
    },
    "kernelspec": {
      "name": "python3",
      "display_name": "Python 3"
    },
    "accelerator": "GPU"
  },
  "cells": [
    {
      "metadata": {
        "id": "ZQDUB9HHBUZj",
        "colab_type": "text"
      },
      "cell_type": "markdown",
      "source": [
        "Train and test a CNN on MNIST data set\n",
        "\n",
        "Use only a single convolutional layer and a single MaxPooling 2D. Program should stop training once the accuracy goes above 99.8. It should happen in less than 20 epochs.\n"
      ]
    },
    {
      "metadata": {
        "id": "yvtIUcYpBNgG",
        "colab_type": "code",
        "colab": {}
      },
      "cell_type": "code",
      "source": [
        "import tensorflow as tf\n",
        "\n",
        "mnist = tf.keras.datasets.mnist\n",
        "(training_images, training_labels), (test_images, test_labels) = mnist.load_data()"
      ],
      "execution_count": 0,
      "outputs": []
    },
    {
      "metadata": {
        "id": "tsS5vwFFCM8O",
        "colab_type": "code",
        "colab": {}
      },
      "cell_type": "code",
      "source": [
        "# normalized image\n",
        "training_images = training_images / 255.\n",
        "test_images = test_images / 255.\n",
        "\n",
        "#reshape \n",
        "training_images.shape  += (1, )\n",
        "test_images.shape += (1, )"
      ],
      "execution_count": 0,
      "outputs": []
    },
    {
      "metadata": {
        "id": "o7qZX6w8DG16",
        "colab_type": "code",
        "colab": {
          "base_uri": "https://localhost:8080/",
          "height": 35
        },
        "outputId": "392bb7f6-d40d-446a-ae09-347a350b8545"
      },
      "cell_type": "code",
      "source": [
        "training_images.shape"
      ],
      "execution_count": 3,
      "outputs": [
        {
          "output_type": "execute_result",
          "data": {
            "text/plain": [
              "(60000, 28, 28, 1)"
            ]
          },
          "metadata": {
            "tags": []
          },
          "execution_count": 3
        }
      ]
    },
    {
      "metadata": {
        "id": "aLy5YHAEIdWF",
        "colab_type": "code",
        "colab": {}
      },
      "cell_type": "code",
      "source": [
        "# Callback to stop training when the acc >= 99.8\n",
        "\n",
        "class MyCallback(tf.keras.callbacks.Callback):\n",
        "  \n",
        "  def on_epoch_end(self, epochs, logs={}):\n",
        "    if logs['acc'] >= 0.998:\n",
        "      print(\"Reached 99.8% accuracy so cancelling training!\")\n",
        "      self.model.stop_training = True\n",
        "      \n",
        "      \n",
        "callback = MyCallback()"
      ],
      "execution_count": 0,
      "outputs": []
    },
    {
      "metadata": {
        "id": "fkaVb2hrCwJM",
        "colab_type": "code",
        "colab": {
          "base_uri": "https://localhost:8080/",
          "height": 419
        },
        "outputId": "f867279f-921c-4f4b-bfcf-d87dee349428"
      },
      "cell_type": "code",
      "source": [
        "# Building and compiling the model\n",
        "model = tf.keras.models.Sequential([\n",
        "    tf.keras.layers.Conv2D(64, (3,3), activation='relu', input_shape=(28, 28, 1)),\n",
        "    tf.keras.layers.MaxPooling2D(2,2),\n",
        "    tf.keras.layers.Flatten(),\n",
        "    tf.keras.layers.Dense(128, activation='relu'),\n",
        "    tf.keras.layers.Dense(10, activation='softmax'),\n",
        "])\n",
        "\n",
        "model.compile(optimizer='adam',\n",
        "              loss='sparse_categorical_crossentropy',\n",
        "              metrics=['acc']\n",
        "             )\n",
        "\n",
        "#Trining\n",
        "model.fit(training_images,\n",
        "         training_labels,\n",
        "         epochs=20,\n",
        "         callbacks=[callback])"
      ],
      "execution_count": 5,
      "outputs": [
        {
          "output_type": "stream",
          "text": [
            "WARNING:tensorflow:From /usr/local/lib/python3.6/dist-packages/tensorflow/python/ops/resource_variable_ops.py:435: colocate_with (from tensorflow.python.framework.ops) is deprecated and will be removed in a future version.\n",
            "Instructions for updating:\n",
            "Colocations handled automatically by placer.\n",
            "Epoch 1/20\n",
            "60000/60000 [==============================] - 14s 234us/sample - loss: 0.1366 - acc: 0.9587\n",
            "Epoch 2/20\n",
            "60000/60000 [==============================] - 13s 211us/sample - loss: 0.0470 - acc: 0.9849\n",
            "Epoch 3/20\n",
            "60000/60000 [==============================] - 12s 208us/sample - loss: 0.0290 - acc: 0.9911\n",
            "Epoch 4/20\n",
            "60000/60000 [==============================] - 12s 207us/sample - loss: 0.0181 - acc: 0.9941\n",
            "Epoch 5/20\n",
            "60000/60000 [==============================] - 12s 208us/sample - loss: 0.0124 - acc: 0.9960\n",
            "Epoch 6/20\n",
            "60000/60000 [==============================] - 13s 209us/sample - loss: 0.0092 - acc: 0.9968\n",
            "Epoch 7/20\n",
            "60000/60000 [==============================] - 12s 206us/sample - loss: 0.0075 - acc: 0.9976\n",
            "Epoch 8/20\n",
            "59904/60000 [============================>.] - ETA: 0s - loss: 0.0061 - acc: 0.9982Reached 99.8% accuracy so cancelling training!\n",
            "60000/60000 [==============================] - 12s 208us/sample - loss: 0.0061 - acc: 0.9982\n"
          ],
          "name": "stdout"
        },
        {
          "output_type": "execute_result",
          "data": {
            "text/plain": [
              "<tensorflow.python.keras.callbacks.History at 0x7fd35a63abe0>"
            ]
          },
          "metadata": {
            "tags": []
          },
          "execution_count": 5
        }
      ]
    },
    {
      "metadata": {
        "id": "mgDZkjrjHg5W",
        "colab_type": "code",
        "colab": {
          "base_uri": "https://localhost:8080/",
          "height": 53
        },
        "outputId": "255bc2c6-8ea4-484c-93ca-ef0cada1b353"
      },
      "cell_type": "code",
      "source": [
        "# run the model on the test dataset\n",
        "test_loss, test_acc = model.evaluate(test_images, test_labels)\n",
        "print(test_acc)"
      ],
      "execution_count": 6,
      "outputs": [
        {
          "output_type": "stream",
          "text": [
            "10000/10000 [==============================] - 1s 89us/sample - loss: 0.0626 - acc: 0.9848\n",
            "0.9848\n"
          ],
          "name": "stdout"
        }
      ]
    },
    {
      "metadata": {
        "id": "KJZvJPwuISs9",
        "colab_type": "code",
        "colab": {}
      },
      "cell_type": "code",
      "source": [
        ""
      ],
      "execution_count": 0,
      "outputs": []
    }
  ]
}