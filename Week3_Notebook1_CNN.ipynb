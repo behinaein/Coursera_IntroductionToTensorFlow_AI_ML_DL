{
  "nbformat": 4,
  "nbformat_minor": 0,
  "metadata": {
    "colab": {
      "name": "Week3-Notebook1_CNN.ipynb",
      "version": "0.3.2",
      "provenance": [],
      "collapsed_sections": []
    },
    "kernelspec": {
      "name": "python3",
      "display_name": "Python 3"
    },
    "accelerator": "GPU"
  },
  "cells": [
    {
      "metadata": {
        "id": "xW2cBS97rCV5",
        "colab_type": "code",
        "colab": {
          "base_uri": "https://localhost:8080/",
          "height": 163
        },
        "outputId": "8ffc0bbe-09bf-4389-9bac-62a6eb926cf8"
      },
      "cell_type": "code",
      "source": [
        "# import images\n",
        "import tensorflow as tf\n",
        "mnist = tf.keras.datasets.fashion_mnist\n",
        "(training_images, training_labels), (test_images, test_labels) = mnist.load_data()\n",
        "#scaling\n",
        "training_images =  training_images / 255.\n",
        "test_images = test_images /255."
      ],
      "execution_count": 2,
      "outputs": [
        {
          "output_type": "stream",
          "text": [
            "Downloading data from https://storage.googleapis.com/tensorflow/tf-keras-datasets/train-labels-idx1-ubyte.gz\n",
            "32768/29515 [=================================] - 0s 0us/step\n",
            "Downloading data from https://storage.googleapis.com/tensorflow/tf-keras-datasets/train-images-idx3-ubyte.gz\n",
            "26427392/26421880 [==============================] - 0s 0us/step\n",
            "Downloading data from https://storage.googleapis.com/tensorflow/tf-keras-datasets/t10k-labels-idx1-ubyte.gz\n",
            "8192/5148 [===============================================] - 0s 0us/step\n",
            "Downloading data from https://storage.googleapis.com/tensorflow/tf-keras-datasets/t10k-images-idx3-ubyte.gz\n",
            "4423680/4422102 [==============================] - 0s 0us/step\n"
          ],
          "name": "stdout"
        }
      ]
    },
    {
      "metadata": {
        "id": "g2EDpJXyruUB",
        "colab_type": "code",
        "colab": {
          "base_uri": "https://localhost:8080/",
          "height": 292
        },
        "outputId": "9071d8ee-2ddd-4263-dfe2-343ce91dfe16"
      },
      "cell_type": "code",
      "source": [
        "# First use a Dense NN\n",
        "model =  tf.keras.models.Sequential([\n",
        "    tf.keras.layers.Flatten(),\n",
        "    tf.keras.layers.Dense(128, activation=tf.nn.relu),\n",
        "    tf.keras.layers.Dense(10, activation=tf.nn.softmax)\n",
        "])\n",
        "\n",
        "model.compile(optimizer='adam',\n",
        "             loss='sparse_categorical_crossentropy',\n",
        "             metrics=['accuracy'])\n",
        "model.fit(training_images, training_labels, epochs=5)\n",
        "\n",
        "test_loss = model.evaluate(test_images, test_labels)"
      ],
      "execution_count": 4,
      "outputs": [
        {
          "output_type": "stream",
          "text": [
            "WARNING:tensorflow:From /usr/local/lib/python3.6/dist-packages/tensorflow/python/ops/resource_variable_ops.py:435: colocate_with (from tensorflow.python.framework.ops) is deprecated and will be removed in a future version.\n",
            "Instructions for updating:\n",
            "Colocations handled automatically by placer.\n",
            "Epoch 1/5\n",
            "60000/60000 [==============================] - 8s 135us/sample - loss: 0.5003 - acc: 0.8245\n",
            "Epoch 2/5\n",
            "60000/60000 [==============================] - 7s 125us/sample - loss: 0.3744 - acc: 0.8653\n",
            "Epoch 3/5\n",
            "60000/60000 [==============================] - 7s 124us/sample - loss: 0.3361 - acc: 0.8776\n",
            "Epoch 4/5\n",
            "60000/60000 [==============================] - 7s 124us/sample - loss: 0.3152 - acc: 0.8848\n",
            "Epoch 5/5\n",
            "60000/60000 [==============================] - 8s 125us/sample - loss: 0.2959 - acc: 0.8914\n",
            "10000/10000 [==============================] - 1s 69us/sample - loss: 0.3431 - acc: 0.8780\n"
          ],
          "name": "stdout"
        }
      ]
    },
    {
      "metadata": {
        "id": "EkcPGIISsfDw",
        "colab_type": "code",
        "colab": {
          "base_uri": "https://localhost:8080/",
          "height": 217
        },
        "outputId": "929f41c0-647e-45a4-87a5-7b86cee17f3b"
      },
      "cell_type": "code",
      "source": [
        "# CNN\n",
        "training_images = training_images.reshape(60000, 28, 28, 1)\n",
        "test_images = test_images.reshape(10000, 28, 28, 1)\n",
        "\n",
        "model = tf.keras.models.Sequential([\n",
        "    tf.keras.layers.Conv2D(64, (3, 3), activation='relu', input_shape=(28, 28, 1)),\n",
        "    tf.keras.layers.MaxPool2D(2, 2),\n",
        "    tf.keras.layers.Conv2D(64, (3, 3), activation='relu'),\n",
        "    tf.keras.layers.MaxPool2D(2, 2),\n",
        "    tf.keras.layers.Flatten(),\n",
        "    tf.keras.layers.Dense(128, activation='relu'),\n",
        "    tf.keras.layers.Dense(10, activation='softmax')\n",
        "])\n",
        "\n",
        "model.compile(optimizer='adam',\n",
        "             loss='sparse_categorical_crossentropy',\n",
        "             metrics=['acc'])\n",
        "model.fit(training_images, training_labels,\n",
        "         epochs=5)\n",
        "test_loss, test_acc = model.evaluate(test_images, test_labels)"
      ],
      "execution_count": 7,
      "outputs": [
        {
          "output_type": "stream",
          "text": [
            "Epoch 1/5\n",
            "60000/60000 [==============================] - 18s 302us/sample - loss: 0.4378 - acc: 0.8411\n",
            "Epoch 2/5\n",
            "60000/60000 [==============================] - 16s 260us/sample - loss: 0.2948 - acc: 0.8917\n",
            "Epoch 3/5\n",
            "60000/60000 [==============================] - 16s 259us/sample - loss: 0.2468 - acc: 0.9086\n",
            "Epoch 4/5\n",
            "60000/60000 [==============================] - 16s 261us/sample - loss: 0.2144 - acc: 0.9200\n",
            "Epoch 5/5\n",
            "60000/60000 [==============================] - 15s 258us/sample - loss: 0.1893 - acc: 0.9287\n",
            "10000/10000 [==============================] - 1s 113us/sample - loss: 0.2569 - acc: 0.9082\n"
          ],
          "name": "stdout"
        }
      ]
    },
    {
      "metadata": {
        "id": "x0NFVOmezMOe",
        "colab_type": "code",
        "colab": {
          "base_uri": "https://localhost:8080/",
          "height": 349
        },
        "outputId": "0f9b4906-e195-4778-b17e-6cab534f4cd5"
      },
      "cell_type": "code",
      "source": [
        "# Visualizing the Convolutions and Pooling on  images\n",
        "\n",
        "import matplotlib.pyplot as plt\n",
        "f, axarr = plt.subplots(3, 4)\n",
        "FIRST_IMAGE = 0 # shoe\n",
        "SECOND_IMAGE = 7 #shirt\n",
        "THIRD_IMAGE = 26\n",
        "\n",
        "CONVOLUTION_NUMBER = 1\n",
        "from tensorflow.keras import models\n",
        "layer_ouputs = [layer.output for layer in model.layers]\n",
        "activation_model = tf.keras.models.Model(inputs=model.input, outputs=layer_ouputs)\n",
        "for x in range(0, 4):\n",
        "  f1 = activation_model.predict(test_images[FIRST_IMAGE].reshape(1, 28, 28, 1))[x]\n",
        "  axarr[0, x].imshow(f1[0, :, :, CONVOLUTION_NUMBER], cmap='inferno')\n",
        "  axarr[0, x].grid(False)\n",
        "  f2 = activation_model.predict(test_images[SECOND_IMAGE].reshape(1, 28, 28, 1))[x]\n",
        "  axarr[1, x].imshow(f2[0, :, :, CONVOLUTION_NUMBER], cmap='inferno')\n",
        "  axarr[1, x].grid(False)\n",
        "  f3 = activation_model.predict(test_images[THIRD_IMAGE].reshape(1, 28, 28, 1))[x]\n",
        "  axarr[2, x].imshow(f3[0, :, :, CONVOLUTION_NUMBER], cmap='inferno')\n",
        "  axarr[2, x].grid(False)\n"
      ],
      "execution_count": 12,
      "outputs": [
        {
          "output_type": "display_data",
          "data": {
            "image/png": "[encoded data removed]",
            "text/plain": [
              "<Figure size 576x396 with 12 Axes>"
            ]
          },
          "metadata": {
            "tags": []
          }
        }
      ]
    },
    {
      "metadata": {
        "id": "CXLL45wm-VXe",
        "colab_type": "text"
      },
      "cell_type": "markdown",
      "source": [
        "####EXERCISES"
      ]
    },
    {
      "metadata": {
        "id": "q4lK3s4i9nWZ",
        "colab_type": "code",
        "colab": {
          "base_uri": "https://localhost:8080/",
          "height": 254
        },
        "outputId": "55d47938-e32f-45da-f480-efcfb5859f7f"
      },
      "cell_type": "code",
      "source": [
        "# Try editing the convolutions. Change the 32s to either 16 or 64. What impact will this have on accuracy and/or training time.\n",
        "model = tf.keras.models.Sequential([\n",
        "    tf.keras.layers.Conv2D(32, (3, 3), activation='relu', input_shape=(28, 28, 1)),\n",
        "    tf.keras.layers.MaxPool2D(2, 2),\n",
        "    tf.keras.layers.Conv2D(32, (3, 3), activation='relu'),\n",
        "    tf.keras.layers.MaxPool2D(2, 2),\n",
        "    tf.keras.layers.Flatten(),\n",
        "    tf.keras.layers.Dense(128, activation='relu'),\n",
        "    tf.keras.layers.Dense(10, activation='softmax')\n",
        "])\n",
        "\n",
        "model.compile(optimizer='adam',\n",
        "             loss='sparse_categorical_crossentropy',\n",
        "             metrics=['acc'])\n",
        "model.fit(training_images, training_labels,\n",
        "         epochs=5)\n",
        "test_loss, test_acc = model.evaluate(test_images, test_labels)\n",
        "print('\\nAcc: ', test_acc)"
      ],
      "execution_count": 25,
      "outputs": [
        {
          "output_type": "stream",
          "text": [
            "Epoch 1/5\n",
            "60000/60000 [==============================] - 12s 195us/sample - loss: 0.4679 - acc: 0.8326\n",
            "Epoch 2/5\n",
            "60000/60000 [==============================] - 12s 193us/sample - loss: 0.3213 - acc: 0.8825\n",
            "Epoch 3/5\n",
            "60000/60000 [==============================] - 12s 192us/sample - loss: 0.2768 - acc: 0.8977\n",
            "Epoch 4/5\n",
            "60000/60000 [==============================] - 11s 191us/sample - loss: 0.2454 - acc: 0.9085\n",
            "Epoch 5/5\n",
            "60000/60000 [==============================] - 12s 193us/sample - loss: 0.2206 - acc: 0.9180\n",
            "10000/10000 [==============================] - 1s 90us/sample - loss: 0.2662 - acc: 0.9054\n",
            "\n",
            "Acc:  0.9054\n"
          ],
          "name": "stdout"
        }
      ]
    },
    {
      "metadata": {
        "id": "bOZRDc3B-o_E",
        "colab_type": "code",
        "colab": {
          "base_uri": "https://localhost:8080/",
          "height": 254
        },
        "outputId": "8f222154-102c-4f62-859f-2634a79b1b46"
      },
      "cell_type": "code",
      "source": [
        "# Remove the final Convolution. What impact will this have on accuracy or training time?\n",
        "model = tf.keras.models.Sequential([\n",
        "    tf.keras.layers.Conv2D(32, (3, 3), activation='relu', input_shape=(28, 28, 1)),\n",
        "    tf.keras.layers.MaxPool2D(2, 2),\n",
        "    tf.keras.layers.Flatten(),\n",
        "    tf.keras.layers.Dense(128, activation='relu'),\n",
        "    tf.keras.layers.Dense(10, activation='softmax')\n",
        "])\n",
        "\n",
        "model.compile(optimizer='adam',\n",
        "             loss='sparse_categorical_crossentropy',\n",
        "             metrics=['acc'])\n",
        "model.fit(training_images, training_labels,\n",
        "         epochs=5)\n",
        "test_loss, test_acc = model.evaluate(test_images, test_labels)\n",
        "print('\\nAcc: ', test_acc)"
      ],
      "execution_count": 28,
      "outputs": [
        {
          "output_type": "stream",
          "text": [
            "Epoch 1/5\n",
            "60000/60000 [==============================] - 13s 222us/sample - loss: 0.3830 - acc: 0.8637\n",
            "Epoch 2/5\n",
            "60000/60000 [==============================] - 13s 219us/sample - loss: 0.2570 - acc: 0.9076\n",
            "Epoch 3/5\n",
            "60000/60000 [==============================] - 13s 217us/sample - loss: 0.2142 - acc: 0.9227\n",
            "Epoch 4/5\n",
            "60000/60000 [==============================] - 13s 224us/sample - loss: 0.1828 - acc: 0.9323\n",
            "Epoch 5/5\n",
            "60000/60000 [==============================] - 13s 219us/sample - loss: 0.1566 - acc: 0.9413\n",
            "10000/10000 [==============================] - 1s 93us/sample - loss: 0.2537 - acc: 0.9122\n",
            "\n",
            "Acc:  0.9122\n"
          ],
          "name": "stdout"
        }
      ]
    },
    {
      "metadata": {
        "id": "I_asn4q2_uHh",
        "colab_type": "code",
        "colab": {
          "base_uri": "https://localhost:8080/",
          "height": 436
        },
        "outputId": "3efcbdf9-d693-439b-805c-008ce1531202"
      },
      "cell_type": "code",
      "source": [
        "# How about adding more Convolutions? What impact do you think this will have? Experiment with it.\n",
        "model = tf.keras.models.Sequential([\n",
        "    tf.keras.layers.Conv2D(32, (3, 3), activation='relu', input_shape=(28, 28, 1)),\n",
        "    tf.keras.layers.MaxPool2D(2, 2),\n",
        "    tf.keras.layers.Conv2D(32, (3, 3), activation='relu'),\n",
        "    tf.keras.layers.MaxPool2D(2, 2),\n",
        "    tf.keras.layers.Conv2D(32, (3, 3), activation='relu'),\n",
        "    tf.keras.layers.MaxPool2D(2, 2),\n",
        "    tf.keras.layers.Flatten(),\n",
        "    tf.keras.layers.Dense(128, activation='relu'),\n",
        "    tf.keras.layers.Dense(10, activation='softmax')\n",
        "])\n",
        "\n",
        "model.compile(optimizer='adam',\n",
        "             loss='sparse_categorical_crossentropy',\n",
        "             metrics=['acc'])\n",
        "model.fit(training_images, training_labels,\n",
        "         epochs=10)\n",
        "test_loss, test_acc = model.evaluate(test_images, test_labels)\n",
        "print('\\nAcc: ', test_acc)"
      ],
      "execution_count": 30,
      "outputs": [
        {
          "output_type": "stream",
          "text": [
            "Epoch 1/10\n",
            "60000/60000 [==============================] - 15s 245us/sample - loss: 0.6325 - acc: 0.7644\n",
            "Epoch 2/10\n",
            "60000/60000 [==============================] - 15s 245us/sample - loss: 0.4290 - acc: 0.8424\n",
            "Epoch 3/10\n",
            "60000/60000 [==============================] - 15s 243us/sample - loss: 0.3779 - acc: 0.8603\n",
            "Epoch 4/10\n",
            "60000/60000 [==============================] - 15s 245us/sample - loss: 0.3422 - acc: 0.8743\n",
            "Epoch 5/10\n",
            "60000/60000 [==============================] - 14s 238us/sample - loss: 0.3185 - acc: 0.8811\n",
            "Epoch 6/10\n",
            "60000/60000 [==============================] - 14s 239us/sample - loss: 0.2963 - acc: 0.8912\n",
            "Epoch 7/10\n",
            "60000/60000 [==============================] - 14s 235us/sample - loss: 0.2827 - acc: 0.8950\n",
            "Epoch 8/10\n",
            "60000/60000 [==============================] - 14s 240us/sample - loss: 0.2703 - acc: 0.8995\n",
            "Epoch 9/10\n",
            "60000/60000 [==============================] - 14s 241us/sample - loss: 0.2583 - acc: 0.9037\n",
            "Epoch 10/10\n",
            "60000/60000 [==============================] - 14s 231us/sample - loss: 0.2481 - acc: 0.9081\n",
            "10000/10000 [==============================] - 1s 112us/sample - loss: 0.3246 - acc: 0.8861\n",
            "\n",
            "Acc:  0.8861\n"
          ],
          "name": "stdout"
        }
      ]
    },
    {
      "metadata": {
        "id": "Q9I2fPDKC7ZZ",
        "colab_type": "code",
        "colab": {
          "base_uri": "https://localhost:8080/",
          "height": 290
        },
        "outputId": "38635909-2b37-4591-9148-74db418641f7"
      },
      "cell_type": "code",
      "source": [
        "# In the previous lesson you implemented a callback to check on the loss function and to cancel training once it hit a certain amount. See if you can implement that here!\n",
        "\n",
        "class MyCallback(tf.keras.callbacks.Callback):\n",
        "  \n",
        "  def on_epoch_end(self, epochs, logs={}):\n",
        "    if logs['loss'] < 0.24:\n",
        "      print(\"\\nloss less than 0.24. Stopping the training\")\n",
        "      self.model.stop_training = True\n",
        "      \n",
        "callback = MyCallback()\n",
        "\n",
        "model = tf.keras.models.Sequential([\n",
        "    tf.keras.layers.Conv2D(32, (3, 3), activation='relu', input_shape=(28, 28, 1)),\n",
        "    tf.keras.layers.MaxPool2D(2, 2),\n",
        "    tf.keras.layers.Conv2D(32, (3, 3), activation='relu'),\n",
        "    tf.keras.layers.MaxPool2D(2, 2),\n",
        "    tf.keras.layers.Flatten(),\n",
        "    tf.keras.layers.Dense(128, activation='relu'),\n",
        "    tf.keras.layers.Dense(10, activation='softmax')\n",
        "])\n",
        "\n",
        "model.compile(optimizer='adam',\n",
        "             loss='sparse_categorical_crossentropy',\n",
        "             metrics=['acc'])\n",
        "model.fit(training_images, training_labels,\n",
        "         epochs=5,\n",
        "         callbacks=[callback])\n",
        "test_loss, test_acc = model.evaluate(test_images, test_labels)\n",
        "print('\\nAcc: ', test_acc)\n"
      ],
      "execution_count": 33,
      "outputs": [
        {
          "output_type": "stream",
          "text": [
            "Epoch 1/5\n",
            "60000/60000 [==============================] - 12s 205us/sample - loss: 0.4602 - acc: 0.8339\n",
            "Epoch 2/5\n",
            "60000/60000 [==============================] - 12s 199us/sample - loss: 0.3168 - acc: 0.8848\n",
            "Epoch 3/5\n",
            "60000/60000 [==============================] - 12s 199us/sample - loss: 0.2761 - acc: 0.8981\n",
            "Epoch 4/5\n",
            "60000/60000 [==============================] - 13s 213us/sample - loss: 0.2463 - acc: 0.9095\n",
            "Epoch 5/5\n",
            "59840/60000 [============================>.] - ETA: 0s - loss: 0.2212 - acc: 0.9168\n",
            "loss less than 0.24. Stopping the training\n",
            "60000/60000 [==============================] - 12s 202us/sample - loss: 0.2211 - acc: 0.9168\n",
            "10000/10000 [==============================] - 1s 111us/sample - loss: 0.2837 - acc: 0.8938\n",
            "\n",
            "Acc:  0.8938\n"
          ],
          "name": "stdout"
        }
      ]
    },
    {
      "metadata": {
        "id": "BNmy7wVzEP87",
        "colab_type": "code",
        "colab": {}
      },
      "cell_type": "code",
      "source": [
        ""
      ],
      "execution_count": 0,
      "outputs": []
    }
  ]
}