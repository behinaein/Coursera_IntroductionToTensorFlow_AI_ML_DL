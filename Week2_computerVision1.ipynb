{
  "nbformat": 4,
  "nbformat_minor": 0,
  "metadata": {
    "colab": {
      "name": "Week2_computerVision1.ipynb",
      "version": "0.3.2",
      "provenance": [],
      "collapsed_sections": []
    },
    "kernelspec": {
      "name": "python3",
      "display_name": "Python 3"
    },
    "accelerator": "GPU"
  },
  "cells": [
    {
      "metadata": {
        "id": "Kp45EJw7fMt8",
        "colab_type": "code",
        "colab": {
          "base_uri": "https://localhost:8080/",
          "height": 35
        },
        "outputId": "5a586873-df3c-4188-ab0f-2f8e1014f698"
      },
      "cell_type": "code",
      "source": [
        "import tensorflow as tf\n",
        "print(tf.__version__)"
      ],
      "execution_count": 1,
      "outputs": [
        {
          "output_type": "stream",
          "text": [
            "1.13.1\n"
          ],
          "name": "stdout"
        }
      ]
    },
    {
      "metadata": {
        "id": "YWvwQruNflAC",
        "colab_type": "code",
        "colab": {}
      },
      "cell_type": "code",
      "source": [
        "mnist = tf.keras.datasets.fashion_mnist"
      ],
      "execution_count": 0,
      "outputs": []
    },
    {
      "metadata": {
        "id": "gSyM-SpqfwMo",
        "colab_type": "code",
        "colab": {}
      },
      "cell_type": "code",
      "source": [
        "(training_images, training_labels), (test_images, test_labels) = mnist.load_data()"
      ],
      "execution_count": 0,
      "outputs": []
    },
    {
      "metadata": {
        "id": "Nz_GhBBJf8z5",
        "colab_type": "code",
        "colab": {
          "base_uri": "https://localhost:8080/",
          "height": 365
        },
        "outputId": "470aaedc-2c61-4ca1-86e9-2fba6df4809c"
      },
      "cell_type": "code",
      "source": [
        "import matplotlib.pyplot as plt\n",
        "plt.imshow(training_images[0])"
      ],
      "execution_count": 4,
      "outputs": [
        {
          "output_type": "execute_result",
          "data": {
            "text/plain": [
              "<matplotlib.image.AxesImage at 0x7fa8429f9208>"
            ]
          },
          "metadata": {
            "tags": []
          },
          "execution_count": 4
        },
        {
          "output_type": "display_data",
          "data": {
            "image/png": "[encoded data removed]",
            "text/plain": [
              "<Figure size 576x396 with 1 Axes>"
            ]
          },
          "metadata": {
            "tags": []
          }
        }
      ]
    },
    {
      "metadata": {
        "id": "GeosyTvNgE7J",
        "colab_type": "code",
        "colab": {}
      },
      "cell_type": "code",
      "source": [
        "# normalize\n",
        "training_images =  training_images / 255.0\n",
        "test_images =  test_images / 255.0"
      ],
      "execution_count": 0,
      "outputs": []
    },
    {
      "metadata": {
        "id": "0Cy7Kh9DgrI2",
        "colab_type": "code",
        "colab": {}
      },
      "cell_type": "code",
      "source": [
        "# creating a model\n",
        "\n",
        "model = tf.keras.models.Sequential([tf.keras.layers.Flatten(),\n",
        "                                   tf.keras.layers.Dense(128, activation=tf.nn.relu),\n",
        "                                   tf.keras.layers.Dense(10, activation=tf.nn.softmax)])"
      ],
      "execution_count": 0,
      "outputs": []
    },
    {
      "metadata": {
        "id": "pC8l1EMknOK_",
        "colab_type": "code",
        "colab": {
          "base_uri": "https://localhost:8080/",
          "height": 217
        },
        "outputId": "a4fb6035-494a-4bd0-a03b-77ac721c8b18"
      },
      "cell_type": "code",
      "source": [
        "# compile and train\n",
        "model.compile(optimizer=tf.train.AdamOptimizer(),\n",
        "             loss='sparse_categorical_crossentropy',\n",
        "             metrics=['accuracy'])\n",
        "model.fit(training_images, training_labels, epochs=5)"
      ],
      "execution_count": 19,
      "outputs": [
        {
          "output_type": "stream",
          "text": [
            "Epoch 1/5\n",
            "60000/60000 [==============================] - 6s 96us/sample - loss: 0.2820 - acc: 0.8958\n",
            "Epoch 2/5\n",
            "60000/60000 [==============================] - 6s 98us/sample - loss: 0.2691 - acc: 0.8993\n",
            "Epoch 3/5\n",
            "60000/60000 [==============================] - 6s 98us/sample - loss: 0.2587 - acc: 0.9049\n",
            "Epoch 4/5\n",
            "60000/60000 [==============================] - 6s 98us/sample - loss: 0.2497 - acc: 0.9066\n",
            "Epoch 5/5\n",
            "60000/60000 [==============================] - 6s 97us/sample - loss: 0.2384 - acc: 0.9114\n"
          ],
          "name": "stdout"
        },
        {
          "output_type": "execute_result",
          "data": {
            "text/plain": [
              "<tensorflow.python.keras.callbacks.History at 0x7fa837c02f28>"
            ]
          },
          "metadata": {
            "tags": []
          },
          "execution_count": 19
        }
      ]
    },
    {
      "metadata": {
        "id": "qhmgX5txnoG9",
        "colab_type": "code",
        "colab": {
          "base_uri": "https://localhost:8080/",
          "height": 53
        },
        "outputId": "18e36878-3793-417e-8459-2cad1365dc21"
      },
      "cell_type": "code",
      "source": [
        "# evaluate the model\n",
        "model.evaluate(test_images, test_labels)"
      ],
      "execution_count": 21,
      "outputs": [
        {
          "output_type": "stream",
          "text": [
            "10000/10000 [==============================] - 1s 68us/sample - loss: 0.3467 - acc: 0.8792\n"
          ],
          "name": "stdout"
        },
        {
          "output_type": "execute_result",
          "data": {
            "text/plain": [
              "[0.3467434439778328, 0.8792]"
            ]
          },
          "metadata": {
            "tags": []
          },
          "execution_count": 21
        }
      ]
    },
    {
      "metadata": {
        "id": "UlUnGue8oarT",
        "colab_type": "text"
      },
      "cell_type": "markdown",
      "source": [
        "### Exercise1:"
      ]
    },
    {
      "metadata": {
        "id": "Kv9Nq0hanvyd",
        "colab_type": "code",
        "colab": {
          "base_uri": "https://localhost:8080/",
          "height": 53
        },
        "outputId": "25f12777-7db5-41b5-ee80-822d4a5d9250"
      },
      "cell_type": "code",
      "source": [
        "classification = model.predict(test_images)\n",
        "print(classification[0])"
      ],
      "execution_count": 22,
      "outputs": [
        {
          "output_type": "stream",
          "text": [
            "[5.3565071e-08 1.2056584e-10 1.6090654e-10 1.3375989e-12 5.8706251e-10\n",
            " 3.6502077e-04 8.4259204e-09 2.5382496e-02 2.1403521e-09 9.7425246e-01]\n"
          ],
          "name": "stdout"
        }
      ]
    },
    {
      "metadata": {
        "id": "2d3Ely83olsb",
        "colab_type": "code",
        "colab": {
          "base_uri": "https://localhost:8080/",
          "height": 53
        },
        "outputId": "a064f54b-3a6d-490b-f7f7-eeccdc463de7"
      },
      "cell_type": "code",
      "source": [
        "print(\"Predition:\", np.argmax(classification[0]))\n",
        "print(\"Real: \", test_labels[0])"
      ],
      "execution_count": 23,
      "outputs": [
        {
          "output_type": "stream",
          "text": [
            "Predition: 9\n",
            "Real:  9\n"
          ],
          "name": "stdout"
        }
      ]
    },
    {
      "metadata": {
        "id": "AhPfjJ71pLUX",
        "colab_type": "text"
      },
      "cell_type": "markdown",
      "source": [
        "### Exercise2:\n",
        "Increase the number of units in the first dense layer."
      ]
    },
    {
      "metadata": {
        "id": "6uftStPqo5kS",
        "colab_type": "code",
        "colab": {
          "base_uri": "https://localhost:8080/",
          "height": 290
        },
        "outputId": "b1846e5c-edc6-42c9-9ca2-25232815708b"
      },
      "cell_type": "code",
      "source": [
        "import tensorflow as tf\n",
        "print(tf.__version__)\n",
        "\n",
        "mnist = tf.keras.datasets.mnist\n",
        "\n",
        "(training_images, training_labels) ,  (test_images, test_labels) = mnist.load_data()\n",
        "\n",
        "training_images = training_images/255.0\n",
        "test_images = test_images/255.0\n",
        "\n",
        "model = tf.keras.models.Sequential([tf.keras.layers.Flatten(),\n",
        "                                    tf.keras.layers.Dense(1024, activation=tf.nn.relu),\n",
        "                                    tf.keras.layers.Dense(10, activation=tf.nn.softmax)])\n",
        "\n",
        "model.compile(optimizer = 'adam',\n",
        "             loss = 'sparse_categorical_crossentropy',\n",
        "             metrics=['accuracy'])\n",
        "\n",
        "model.fit(training_images, training_labels, epochs=5)\n",
        "\n",
        "model.evaluate(test_images, test_labels)\n",
        "\n",
        "classifications = model.predict(test_images)\n",
        "\n",
        "print(classifications[0])\n",
        "print(test_labels[0])"
      ],
      "execution_count": 25,
      "outputs": [
        {
          "output_type": "stream",
          "text": [
            "1.13.1\n",
            "Epoch 1/5\n",
            "60000/60000 [==============================] - 11s 185us/sample - loss: 0.1853 - acc: 0.9437\n",
            "Epoch 2/5\n",
            "60000/60000 [==============================] - 12s 198us/sample - loss: 0.0754 - acc: 0.9763\n",
            "Epoch 3/5\n",
            "60000/60000 [==============================] - 11s 190us/sample - loss: 0.0481 - acc: 0.9844\n",
            "Epoch 4/5\n",
            "60000/60000 [==============================] - 11s 188us/sample - loss: 0.0352 - acc: 0.9886\n",
            "Epoch 5/5\n",
            "60000/60000 [==============================] - 12s 195us/sample - loss: 0.0257 - acc: 0.9912\n",
            "10000/10000 [==============================] - 1s 97us/sample - loss: 0.0712 - acc: 0.9806\n",
            "[7.8521450e-10 3.2036426e-11 1.1532021e-08 6.6834741e-06 6.2130354e-15\n",
            " 1.2971474e-10 4.2800185e-15 9.9999321e-01 1.2397811e-10 1.2149202e-07]\n",
            "7\n"
          ],
          "name": "stdout"
        }
      ]
    },
    {
      "metadata": {
        "id": "w0NW7saSqZmL",
        "colab_type": "text"
      },
      "cell_type": "markdown",
      "source": [
        "###Exercise 3: \n",
        "Remove the flatten **layer**"
      ]
    },
    {
      "metadata": {
        "id": "d90FRlFBpVnQ",
        "colab_type": "code",
        "colab": {}
      },
      "cell_type": "code",
      "source": [
        "import tensorflow as tf\n",
        "print(tf.__version__)\n",
        "\n",
        "mnist = tf.keras.datasets.mnist\n",
        "\n",
        "(training_images, training_labels) ,  (test_images, test_labels) = mnist.load_data()\n",
        "\n",
        "training_images = training_images/255.0\n",
        "test_images = test_images/255.0\n",
        "\n",
        "model = tf.keras.models.Sequential([#tf.keras.layers.Flatten(),\n",
        "                                    tf.keras.layers.Dense(64, activation=tf.nn.relu),\n",
        "                                    tf.keras.layers.Dense(10, activation=tf.nn.softmax)])\n",
        "\n",
        "model.compile(optimizer = 'adam',\n",
        "             loss = 'sparse_categorical_crossentropy',\n",
        "             metrics=['accuracy'])\n",
        "\n",
        "model.fit(training_images, training_labels, epochs=5)\n",
        "\n",
        "model.evaluate(test_images, test_labels)\n",
        "\n",
        "classifications = model.predict(test_images)\n",
        "\n",
        "print(classifications[0])\n",
        "print(test_labels[0])"
      ],
      "execution_count": 0,
      "outputs": []
    },
    {
      "metadata": {
        "id": "EqIwx8mLq66a",
        "colab_type": "text"
      },
      "cell_type": "markdown",
      "source": [
        "###Exercise 5: \n",
        "Add another dense layer before the last layer"
      ]
    },
    {
      "metadata": {
        "id": "S8clLJLAqoFj",
        "colab_type": "code",
        "colab": {
          "base_uri": "https://localhost:8080/",
          "height": 290
        },
        "outputId": "7dd58550-19d2-4650-d3fa-abeaebf548c1"
      },
      "cell_type": "code",
      "source": [
        "import tensorflow as tf\n",
        "print(tf.__version__)\n",
        "\n",
        "mnist = tf.keras.datasets.mnist\n",
        "\n",
        "(training_images, training_labels) ,  (test_images, test_labels) = mnist.load_data()\n",
        "\n",
        "training_images = training_images/255.0\n",
        "test_images = test_images/255.0\n",
        "\n",
        "model = tf.keras.models.Sequential([tf.keras.layers.Flatten(),\n",
        "                                    tf.keras.layers.Dense(512, activation=tf.nn.relu),\n",
        "                                    tf.keras.layers.Dense(256, activation=tf.nn.relu),\n",
        "                                    tf.keras.layers.Dense(10, activation=tf.nn.softmax)])\n",
        "\n",
        "model.compile(optimizer = 'adam',\n",
        "             loss = 'sparse_categorical_crossentropy',\n",
        "             metrics=['acc'])\n",
        "\n",
        "model.fit(training_images, training_labels, epochs=5)\n",
        "\n",
        "model.evaluate(test_images, test_labels)\n",
        "\n",
        "classifications = model.predict(test_images)\n",
        "\n",
        "print(classifications[0])\n",
        "print(test_labels[0])"
      ],
      "execution_count": 29,
      "outputs": [
        {
          "output_type": "stream",
          "text": [
            "1.13.1\n",
            "Epoch 1/5\n",
            "60000/60000 [==============================] - 11s 191us/sample - loss: 0.1849 - acc: 0.9440\n",
            "Epoch 2/5\n",
            "60000/60000 [==============================] - 12s 196us/sample - loss: 0.0797 - acc: 0.9756\n",
            "Epoch 3/5\n",
            "60000/60000 [==============================] - 12s 192us/sample - loss: 0.0548 - acc: 0.9829\n",
            "Epoch 4/5\n",
            "60000/60000 [==============================] - 12s 193us/sample - loss: 0.0412 - acc: 0.9866\n",
            "Epoch 5/5\n",
            "60000/60000 [==============================] - 12s 195us/sample - loss: 0.0336 - acc: 0.9891\n",
            "10000/10000 [==============================] - 1s 91us/sample - loss: 0.0744 - acc: 0.9784\n",
            "[7.7699069e-11 4.5323323e-09 6.5061473e-10 6.3441666e-07 7.4346406e-12\n",
            " 8.6239432e-11 5.4209545e-13 9.9993455e-01 7.9360446e-10 6.4790562e-05]\n",
            "7\n"
          ],
          "name": "stdout"
        }
      ]
    },
    {
      "metadata": {
        "id": "X8uYqt3asKzj",
        "colab_type": "text"
      },
      "cell_type": "markdown",
      "source": [
        ""
      ]
    },
    {
      "metadata": {
        "colab_type": "text",
        "id": "oPV8Zyf0sMKr"
      },
      "cell_type": "markdown",
      "source": [
        "###Exercise 6: \n",
        "Impact of number of epochs."
      ]
    },
    {
      "metadata": {
        "id": "ToahQEcfrTcX",
        "colab_type": "code",
        "colab": {
          "base_uri": "https://localhost:8080/",
          "height": 654
        },
        "outputId": "2ecad8d7-f2c3-4514-b464-6057063616bd"
      },
      "cell_type": "code",
      "source": [
        "import tensorflow as tf\n",
        "print(tf.__version__)\n",
        "\n",
        "mnist = tf.keras.datasets.mnist\n",
        "\n",
        "(training_images, training_labels) ,  (test_images, test_labels) = mnist.load_data()\n",
        "\n",
        "training_images = training_images/255.0\n",
        "test_images = test_images/255.0\n",
        "\n",
        "model = tf.keras.models.Sequential([tf.keras.layers.Flatten(),\n",
        "                                    tf.keras.layers.Dense(128, activation=tf.nn.relu),\n",
        "                                    tf.keras.layers.Dense(10, activation=tf.nn.softmax)])\n",
        "\n",
        "model.compile(optimizer = 'adam',\n",
        "             loss = 'sparse_categorical_crossentropy',\n",
        "             metrics=['accuracy'])\n",
        "\n",
        "model.fit(training_images, training_labels, epochs=15)\n",
        "\n",
        "model.evaluate(test_images, test_labels)\n",
        "\n",
        "classifications = model.predict(test_images)\n",
        "\n",
        "print(classifications[34])\n",
        "print(test_labels[34])"
      ],
      "execution_count": 31,
      "outputs": [
        {
          "output_type": "stream",
          "text": [
            "1.13.1\n",
            "Epoch 1/15\n",
            "60000/60000 [==============================] - 10s 164us/sample - loss: 0.2576 - acc: 0.9266\n",
            "Epoch 2/15\n",
            "60000/60000 [==============================] - 10s 160us/sample - loss: 0.1135 - acc: 0.9670\n",
            "Epoch 3/15\n",
            "60000/60000 [==============================] - 9s 158us/sample - loss: 0.0786 - acc: 0.9761\n",
            "Epoch 4/15\n",
            "60000/60000 [==============================] - 10s 160us/sample - loss: 0.0577 - acc: 0.9824\n",
            "Epoch 5/15\n",
            "60000/60000 [==============================] - 10s 160us/sample - loss: 0.0460 - acc: 0.9853\n",
            "Epoch 6/15\n",
            "60000/60000 [==============================] - 10s 160us/sample - loss: 0.0351 - acc: 0.9894\n",
            "Epoch 7/15\n",
            "60000/60000 [==============================] - 10s 161us/sample - loss: 0.0275 - acc: 0.9919\n",
            "Epoch 8/15\n",
            "60000/60000 [==============================] - 10s 159us/sample - loss: 0.0236 - acc: 0.9929\n",
            "Epoch 9/15\n",
            "60000/60000 [==============================] - 10s 171us/sample - loss: 0.0193 - acc: 0.9942\n",
            "Epoch 10/15\n",
            "60000/60000 [==============================] - 10s 164us/sample - loss: 0.0153 - acc: 0.9954\n",
            "Epoch 11/15\n",
            "60000/60000 [==============================] - 10s 164us/sample - loss: 0.0144 - acc: 0.9955\n",
            "Epoch 12/15\n",
            "60000/60000 [==============================] - 10s 162us/sample - loss: 0.0120 - acc: 0.9964\n",
            "Epoch 13/15\n",
            "60000/60000 [==============================] - 10s 164us/sample - loss: 0.0103 - acc: 0.9971\n",
            "Epoch 14/15\n",
            "60000/60000 [==============================] - 10s 164us/sample - loss: 0.0084 - acc: 0.9976\n",
            "Epoch 15/15\n",
            "60000/60000 [==============================] - 10s 175us/sample - loss: 0.0082 - acc: 0.9976\n",
            "10000/10000 [==============================] - 1s 96us/sample - loss: 0.0885 - acc: 0.9776\n",
            "[3.5502202e-15 9.8136538e-16 1.4684969e-07 2.4551448e-11 2.1965601e-21\n",
            " 1.1957567e-23 6.8255537e-22 9.9999988e-01 6.1303830e-11 4.1816204e-14]\n",
            "7\n"
          ],
          "name": "stdout"
        }
      ]
    },
    {
      "metadata": {
        "id": "x_VTVKizvWJq",
        "colab_type": "code",
        "colab": {
          "base_uri": "https://localhost:8080/",
          "height": 326
        },
        "outputId": "ffe5dc9a-b62a-4f2c-fb20-d52616633dc2"
      },
      "cell_type": "code",
      "source": [
        "import tensorflow as tf\n",
        "print(tf.__version__)\n",
        "\n",
        "mnist = tf.keras.datasets.mnist\n",
        "\n",
        "(training_images, training_labels) ,  (test_images, test_labels) = mnist.load_data()\n",
        "\n",
        "training_images = training_images/255.0\n",
        "test_images = test_images/255.0\n",
        "\n",
        "model = tf.keras.models.Sequential([tf.keras.layers.Flatten(),\n",
        "                                    tf.keras.layers.Dense(128, activation=tf.nn.relu),\n",
        "                                    tf.keras.layers.Dense(10, activation=tf.nn.softmax)])\n",
        "\n",
        "model.compile(optimizer = 'adam',\n",
        "             loss = 'sparse_categorical_crossentropy',\n",
        "             metrics=['accuracy'])\n",
        "\n",
        "model.fit(training_images, training_labels, epochs=5)\n",
        "print(\"\\nEvaluating test dataset\")\n",
        "model.evaluate(test_images, test_labels)\n",
        "\n",
        "classifications = model.predict(test_images)\n",
        "\n",
        "print(classifications[34])\n",
        "print(test_labels[34])"
      ],
      "execution_count": 33,
      "outputs": [
        {
          "output_type": "stream",
          "text": [
            "1.13.1\n",
            "Epoch 1/5\n",
            "60000/60000 [==============================] - 10s 165us/sample - loss: 0.2570 - acc: 0.9275\n",
            "Epoch 2/5\n",
            "60000/60000 [==============================] - 10s 163us/sample - loss: 0.1112 - acc: 0.9676\n",
            "Epoch 3/5\n",
            "60000/60000 [==============================] - 10s 165us/sample - loss: 0.0762 - acc: 0.9767\n",
            "Epoch 4/5\n",
            "60000/60000 [==============================] - 10s 170us/sample - loss: 0.0581 - acc: 0.9822\n",
            "Epoch 5/5\n",
            "60000/60000 [==============================] - 10s 164us/sample - loss: 0.0441 - acc: 0.9865\n",
            "\n",
            "Evaluating test dataset\n",
            "10000/10000 [==============================] - 1s 102us/sample - loss: 0.0697 - acc: 0.9781\n",
            "[8.6721359e-09 1.2036245e-06 2.3645721e-04 7.4640382e-05 7.7042139e-10\n",
            " 5.7840451e-12 3.1622823e-12 9.9966598e-01 2.1702250e-05 1.6234967e-08]\n",
            "7\n"
          ],
          "name": "stdout"
        }
      ]
    },
    {
      "metadata": {
        "id": "c7oPEpPrwTrW",
        "colab_type": "code",
        "colab": {
          "base_uri": "https://localhost:8080/",
          "height": 1236
        },
        "outputId": "aadb4021-abd8-415a-93e2-9626b646f1b8"
      },
      "cell_type": "code",
      "source": [
        "import tensorflow as tf\n",
        "print(tf.__version__)\n",
        "\n",
        "mnist = tf.keras.datasets.mnist\n",
        "\n",
        "(training_images, training_labels) ,  (test_images, test_labels) = mnist.load_data()\n",
        "\n",
        "training_images = training_images/255.0\n",
        "test_images = test_images/255.0\n",
        "\n",
        "model = tf.keras.models.Sequential([tf.keras.layers.Flatten(),\n",
        "                                    tf.keras.layers.Dense(128, activation=tf.nn.relu),\n",
        "                                    tf.keras.layers.Dense(10, activation=tf.nn.softmax)])\n",
        "\n",
        "model.compile(optimizer = 'adam',\n",
        "             loss = 'sparse_categorical_crossentropy',\n",
        "             metrics=['accuracy'])\n",
        "\n",
        "model.fit(training_images, training_labels, epochs=30)\n",
        "print(\"\\nEvaluating test dataset\")\n",
        "model.evaluate(test_images, test_labels)\n",
        "\n",
        "classifications = model.predict(test_images)\n",
        "\n",
        "print(classifications[34])\n",
        "print(test_labels[34])"
      ],
      "execution_count": 34,
      "outputs": [
        {
          "output_type": "stream",
          "text": [
            "1.13.1\n",
            "Epoch 1/30\n",
            "60000/60000 [==============================] - 10s 163us/sample - loss: 0.2647 - acc: 0.9249\n",
            "Epoch 2/30\n",
            "60000/60000 [==============================] - 10s 164us/sample - loss: 0.1181 - acc: 0.9644\n",
            "Epoch 3/30\n",
            "60000/60000 [==============================] - 9s 156us/sample - loss: 0.0797 - acc: 0.9764\n",
            "Epoch 4/30\n",
            "60000/60000 [==============================] - 9s 155us/sample - loss: 0.0604 - acc: 0.9819\n",
            "Epoch 5/30\n",
            "60000/60000 [==============================] - 10s 167us/sample - loss: 0.0460 - acc: 0.9854\n",
            "Epoch 6/30\n",
            "60000/60000 [==============================] - 10s 162us/sample - loss: 0.0376 - acc: 0.9884\n",
            "Epoch 7/30\n",
            "60000/60000 [==============================] - 10s 158us/sample - loss: 0.0297 - acc: 0.9908\n",
            "Epoch 8/30\n",
            "60000/60000 [==============================] - 10s 161us/sample - loss: 0.0240 - acc: 0.9926\n",
            "Epoch 9/30\n",
            "60000/60000 [==============================] - 9s 157us/sample - loss: 0.0190 - acc: 0.9938\n",
            "Epoch 10/30\n",
            "60000/60000 [==============================] - 9s 158us/sample - loss: 0.0162 - acc: 0.9949\n",
            "Epoch 11/30\n",
            "60000/60000 [==============================] - 10s 159us/sample - loss: 0.0134 - acc: 0.9959\n",
            "Epoch 12/30\n",
            "60000/60000 [==============================] - 10s 160us/sample - loss: 0.0114 - acc: 0.9962\n",
            "Epoch 13/30\n",
            "60000/60000 [==============================] - 10s 162us/sample - loss: 0.0101 - acc: 0.9969\n",
            "Epoch 14/30\n",
            "60000/60000 [==============================] - 10s 162us/sample - loss: 0.0078 - acc: 0.9979\n",
            "Epoch 15/30\n",
            "60000/60000 [==============================] - 10s 163us/sample - loss: 0.0080 - acc: 0.9975\n",
            "Epoch 16/30\n",
            "60000/60000 [==============================] - 10s 161us/sample - loss: 0.0073 - acc: 0.9977\n",
            "Epoch 17/30\n",
            "60000/60000 [==============================] - 10s 164us/sample - loss: 0.0072 - acc: 0.9979\n",
            "Epoch 18/30\n",
            "60000/60000 [==============================] - 10s 166us/sample - loss: 0.0062 - acc: 0.9980\n",
            "Epoch 19/30\n",
            "60000/60000 [==============================] - 10s 162us/sample - loss: 0.0048 - acc: 0.9986\n",
            "Epoch 20/30\n",
            "60000/60000 [==============================] - 9s 154us/sample - loss: 0.0058 - acc: 0.9981\n",
            "Epoch 21/30\n",
            "60000/60000 [==============================] - 9s 155us/sample - loss: 0.0056 - acc: 0.9981\n",
            "Epoch 22/30\n",
            "60000/60000 [==============================] - 9s 157us/sample - loss: 0.0054 - acc: 0.9982\n",
            "Epoch 23/30\n",
            "60000/60000 [==============================] - 9s 155us/sample - loss: 0.0053 - acc: 0.9981\n",
            "Epoch 24/30\n",
            "60000/60000 [==============================] - 10s 160us/sample - loss: 0.0041 - acc: 0.9988\n",
            "Epoch 25/30\n",
            "60000/60000 [==============================] - 10s 164us/sample - loss: 0.0028 - acc: 0.9992\n",
            "Epoch 26/30\n",
            "60000/60000 [==============================] - 10s 163us/sample - loss: 0.0047 - acc: 0.9984\n",
            "Epoch 27/30\n",
            "60000/60000 [==============================] - 10s 162us/sample - loss: 0.0043 - acc: 0.9987\n",
            "Epoch 28/30\n",
            "60000/60000 [==============================] - 10s 164us/sample - loss: 0.0040 - acc: 0.9987\n",
            "Epoch 29/30\n",
            "60000/60000 [==============================] - 10s 162us/sample - loss: 0.0038 - acc: 0.9988\n",
            "Epoch 30/30\n",
            "60000/60000 [==============================] - 10s 167us/sample - loss: 0.0038 - acc: 0.9989\n",
            "\n",
            "Evaluating test dataset\n",
            "10000/10000 [==============================] - 1s 115us/sample - loss: 0.1136 - acc: 0.9808\n",
            "[3.2818154e-22 3.7238553e-20 8.4143916e-12 8.9689076e-11 2.4099888e-25\n",
            " 2.7618166e-29 6.0155016e-27 1.0000000e+00 1.0763595e-17 5.5834102e-21]\n",
            "7\n"
          ],
          "name": "stdout"
        }
      ]
    },
    {
      "metadata": {
        "id": "hLoVY2pKyXyl",
        "colab_type": "text"
      },
      "cell_type": "markdown",
      "source": [
        "### Exercise 7:\n",
        "\n",
        "Not normalizing"
      ]
    },
    {
      "metadata": {
        "id": "A6UBMP5VxH_i",
        "colab_type": "code",
        "colab": {
          "base_uri": "https://localhost:8080/",
          "height": 308
        },
        "outputId": "75247711-8b18-46c2-e3b6-187438802332"
      },
      "cell_type": "code",
      "source": [
        "import tensorflow as tf\n",
        "print(tf.__version__)\n",
        "\n",
        "mnist = tf.keras.datasets.mnist\n",
        "\n",
        "(training_images, training_labels) ,  (test_images, test_labels) = mnist.load_data()\n",
        "\n",
        "# training_images = training_images/255.0\n",
        "# test_images = test_images/255.0\n",
        "\n",
        "model = tf.keras.models.Sequential([tf.keras.layers.Flatten(),\n",
        "                                    tf.keras.layers.Dense(128, activation=tf.nn.relu),\n",
        "                                    tf.keras.layers.Dense(10, activation=tf.nn.softmax)])\n",
        "\n",
        "model.compile(optimizer = 'adam',\n",
        "             loss = 'sparse_categorical_crossentropy',\n",
        "             metrics=['accuracy'])\n",
        "\n",
        "model.fit(training_images, training_labels, epochs=5)\n",
        "print(\"\\nEvaluating test dataset\")\n",
        "model.evaluate(test_images, test_labels)\n",
        "\n",
        "classifications = model.predict(test_images)\n",
        "\n",
        "print(classifications[34])\n",
        "print(test_labels[34])"
      ],
      "execution_count": 35,
      "outputs": [
        {
          "output_type": "stream",
          "text": [
            "1.13.1\n",
            "Epoch 1/5\n",
            "60000/60000 [==============================] - 10s 165us/sample - loss: 11.3360 - acc: 0.2962\n",
            "Epoch 2/5\n",
            "60000/60000 [==============================] - 10s 165us/sample - loss: 10.0168 - acc: 0.3781\n",
            "Epoch 3/5\n",
            "60000/60000 [==============================] - 10s 166us/sample - loss: 9.9777 - acc: 0.3806\n",
            "Epoch 4/5\n",
            "60000/60000 [==============================] - 10s 166us/sample - loss: 9.6287 - acc: 0.4022\n",
            "Epoch 5/5\n",
            "60000/60000 [==============================] - 10s 165us/sample - loss: 7.8762 - acc: 0.5107\n",
            "\n",
            "Evaluating test dataset\n",
            "10000/10000 [==============================] - 1s 98us/sample - loss: 7.7257 - acc: 0.5199\n",
            "[0. 0. 0. 0. 0. 0. 0. 1. 0. 0.]\n",
            "7\n"
          ],
          "name": "stdout"
        }
      ]
    },
    {
      "metadata": {
        "id": "q9mWeuQzy64r",
        "colab_type": "text"
      },
      "cell_type": "markdown",
      "source": [
        "### Exercise 8:\n",
        "\n",
        "Callbacks"
      ]
    },
    {
      "metadata": {
        "id": "n5DQa-BiyjCt",
        "colab_type": "code",
        "colab": {
          "base_uri": "https://localhost:8080/",
          "height": 345
        },
        "outputId": "03cfb706-0143-4d18-eded-eabcbbc37fca"
      },
      "cell_type": "code",
      "source": [
        "import tensorflow as tf\n",
        "print(tf.__version__)\n",
        "\n",
        "class MyCallback(tf.keras.callbacks.Callback):\n",
        "  def on_epoch_end(self, epoch, logs={}):\n",
        "    if logs.get('acc') > 0.9:\n",
        "      print (\"\\nReached 90% accuracy so cancelling training\")\n",
        "      self.model.stop_training = True\n",
        "      \n",
        "      \n",
        "callback = MyCallback()\n",
        "mnist = tf.keras.datasets.fashion_mnist\n",
        "(training_images, training_labels), (test_images, test_labels) = mnist.load_data()\n",
        "training_images=training_images/255.0\n",
        "test_images=test_images/255.0\n",
        "model = tf.keras.models.Sequential([\n",
        "  tf.keras.layers.Flatten(),\n",
        "  tf.keras.layers.Dense(128, activation=tf.nn.relu),\n",
        "  tf.keras.layers.Dense(10, activation=tf.nn.softmax)\n",
        "])\n",
        "model.compile(optimizer='adam', loss='sparse_categorical_crossentropy',\n",
        "             metrics=['acc'])\n",
        "model.fit(training_images, training_labels, epochs=10, callbacks=[callback])"
      ],
      "execution_count": 39,
      "outputs": [
        {
          "output_type": "stream",
          "text": [
            "1.13.1\n",
            "Epoch 1/10\n",
            "60000/60000 [==============================] - 11s 185us/sample - loss: 0.4951 - acc: 0.8256\n",
            "Epoch 2/10\n",
            "60000/60000 [==============================] - 11s 182us/sample - loss: 0.3733 - acc: 0.8661\n",
            "Epoch 3/10\n",
            "60000/60000 [==============================] - 11s 181us/sample - loss: 0.3361 - acc: 0.8773\n",
            "Epoch 4/10\n",
            "60000/60000 [==============================] - 11s 180us/sample - loss: 0.3113 - acc: 0.8854\n",
            "Epoch 5/10\n",
            "60000/60000 [==============================] - 11s 179us/sample - loss: 0.2919 - acc: 0.8923\n",
            "Epoch 6/10\n",
            "60000/60000 [==============================] - 11s 182us/sample - loss: 0.2790 - acc: 0.8973\n",
            "Epoch 7/10\n",
            "59776/60000 [============================>.] - ETA: 0s - loss: 0.2667 - acc: 0.9004\n",
            "Reached 90% accuracy so cancelling training\n",
            "60000/60000 [==============================] - 11s 182us/sample - loss: 0.2667 - acc: 0.9004\n"
          ],
          "name": "stdout"
        },
        {
          "output_type": "execute_result",
          "data": {
            "text/plain": [
              "<tensorflow.python.keras.callbacks.History at 0x7fa8333d0b70>"
            ]
          },
          "metadata": {
            "tags": []
          },
          "execution_count": 39
        }
      ]
    },
    {
      "metadata": {
        "id": "YaRqJ2O30MMZ",
        "colab_type": "code",
        "colab": {}
      },
      "cell_type": "code",
      "source": [
        ""
      ],
      "execution_count": 0,
      "outputs": []
    }
  ]
}